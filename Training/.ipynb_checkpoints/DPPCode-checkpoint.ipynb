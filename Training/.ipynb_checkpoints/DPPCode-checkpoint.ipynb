{
 "cells": [
  {
   "cell_type": "code",
   "execution_count": 37,
   "id": "54a3ade0",
   "metadata": {},
   "outputs": [],
   "source": [
    "import numpy as np\n",
    "import pandas as pd\n",
    "import seaborn as sns\n",
    "import matplotlib.pyplot as plt\n",
    "%matplotlib inline"
   ]
  },
  {
   "cell_type": "code",
   "execution_count": 84,
   "id": "5aff9cd1",
   "metadata": {},
   "outputs": [],
   "source": [
    "dp = pd.read_csv(\"Delhi_v2.csv\")\n",
    "dp.drop(columns='Unnamed: 0',inplace=True)"
   ]
  },
  {
   "cell_type": "code",
   "execution_count": 85,
   "id": "1ae3f41f",
   "metadata": {},
   "outputs": [
    {
     "data": {
      "text/html": [
       "<div>\n",
       "<style scoped>\n",
       "    .dataframe tbody tr th:only-of-type {\n",
       "        vertical-align: middle;\n",
       "    }\n",
       "\n",
       "    .dataframe tbody tr th {\n",
       "        vertical-align: top;\n",
       "    }\n",
       "\n",
       "    .dataframe thead th {\n",
       "        text-align: right;\n",
       "    }\n",
       "</style>\n",
       "<table border=\"1\" class=\"dataframe\">\n",
       "  <thead>\n",
       "    <tr style=\"text-align: right;\">\n",
       "      <th></th>\n",
       "      <th>price</th>\n",
       "      <th>Address</th>\n",
       "      <th>area</th>\n",
       "      <th>latitude</th>\n",
       "      <th>longitude</th>\n",
       "      <th>Bedrooms</th>\n",
       "      <th>Bathrooms</th>\n",
       "      <th>Balcony</th>\n",
       "      <th>Status</th>\n",
       "      <th>neworold</th>\n",
       "      <th>parking</th>\n",
       "      <th>Furnished_status</th>\n",
       "      <th>Lift</th>\n",
       "      <th>Landmarks</th>\n",
       "      <th>type_of_building</th>\n",
       "      <th>desc</th>\n",
       "      <th>Price_sqft</th>\n",
       "    </tr>\n",
       "  </thead>\n",
       "  <tbody>\n",
       "    <tr>\n",
       "      <th>0</th>\n",
       "      <td>5600000.0</td>\n",
       "      <td>Noida Extension, Noida, Delhi NCR</td>\n",
       "      <td>1350.0</td>\n",
       "      <td>28.608850</td>\n",
       "      <td>77.460560</td>\n",
       "      <td>3.0</td>\n",
       "      <td>3.0</td>\n",
       "      <td>NaN</td>\n",
       "      <td>Under Construction</td>\n",
       "      <td>New Property</td>\n",
       "      <td>NaN</td>\n",
       "      <td>NaN</td>\n",
       "      <td>2.0</td>\n",
       "      <td>NaN</td>\n",
       "      <td>Flat</td>\n",
       "      <td>\\n\\n\\n                                Welcome ...</td>\n",
       "      <td>4148.148148</td>\n",
       "    </tr>\n",
       "    <tr>\n",
       "      <th>1</th>\n",
       "      <td>8800000.0</td>\n",
       "      <td>Sector 79, Gurgaon, Delhi NCR</td>\n",
       "      <td>1490.0</td>\n",
       "      <td>28.374236</td>\n",
       "      <td>76.952416</td>\n",
       "      <td>3.0</td>\n",
       "      <td>3.0</td>\n",
       "      <td>NaN</td>\n",
       "      <td>Ready to Move</td>\n",
       "      <td>New Property</td>\n",
       "      <td>NaN</td>\n",
       "      <td>Semi-Furnished</td>\n",
       "      <td>2.0</td>\n",
       "      <td>NaN</td>\n",
       "      <td>Flat</td>\n",
       "      <td>\\n\\n\\n                                Mapsko M...</td>\n",
       "      <td>5906.040268</td>\n",
       "    </tr>\n",
       "    <tr>\n",
       "      <th>2</th>\n",
       "      <td>16500000.0</td>\n",
       "      <td>Vaishali, Ghaziabad, Delhi NCR</td>\n",
       "      <td>2385.0</td>\n",
       "      <td>28.645769</td>\n",
       "      <td>77.385110</td>\n",
       "      <td>4.0</td>\n",
       "      <td>5.0</td>\n",
       "      <td>NaN</td>\n",
       "      <td>Ready to Move</td>\n",
       "      <td>New Property</td>\n",
       "      <td>1.0</td>\n",
       "      <td>Unfurnished</td>\n",
       "      <td>NaN</td>\n",
       "      <td>NaN</td>\n",
       "      <td>Flat</td>\n",
       "      <td>\\n\\n\\n                                This pro...</td>\n",
       "      <td>6918.238994</td>\n",
       "    </tr>\n",
       "    <tr>\n",
       "      <th>3</th>\n",
       "      <td>3810000.0</td>\n",
       "      <td>Link Road, F Block, Sector 50, Noida, Uttar Pr...</td>\n",
       "      <td>1050.0</td>\n",
       "      <td>28.566914</td>\n",
       "      <td>77.436434</td>\n",
       "      <td>2.0</td>\n",
       "      <td>2.0</td>\n",
       "      <td>3.0</td>\n",
       "      <td>NaN</td>\n",
       "      <td>New Property</td>\n",
       "      <td>1.0</td>\n",
       "      <td>Unfurnished</td>\n",
       "      <td>2.0</td>\n",
       "      <td>near Gaur Mulberry Mansion</td>\n",
       "      <td>Flat</td>\n",
       "      <td>\\n\\n\\n                                AIG Roya...</td>\n",
       "      <td>3628.571429</td>\n",
       "    </tr>\n",
       "    <tr>\n",
       "      <th>4</th>\n",
       "      <td>6200000.0</td>\n",
       "      <td>Jaypee Pavilion Court Sector 128, Noida, Secto...</td>\n",
       "      <td>1350.0</td>\n",
       "      <td>28.520732</td>\n",
       "      <td>77.356491</td>\n",
       "      <td>2.0</td>\n",
       "      <td>2.0</td>\n",
       "      <td>3.0</td>\n",
       "      <td>Ready to Move</td>\n",
       "      <td>Resale</td>\n",
       "      <td>1.0</td>\n",
       "      <td>NaN</td>\n",
       "      <td>3.0</td>\n",
       "      <td>NaN</td>\n",
       "      <td>Flat</td>\n",
       "      <td>\\n\\n\\n                                The prop...</td>\n",
       "      <td>4592.592593</td>\n",
       "    </tr>\n",
       "  </tbody>\n",
       "</table>\n",
       "</div>"
      ],
      "text/plain": [
       "        price                                            Address    area  \\\n",
       "0   5600000.0                  Noida Extension, Noida, Delhi NCR  1350.0   \n",
       "1   8800000.0                      Sector 79, Gurgaon, Delhi NCR  1490.0   \n",
       "2  16500000.0                     Vaishali, Ghaziabad, Delhi NCR  2385.0   \n",
       "3   3810000.0  Link Road, F Block, Sector 50, Noida, Uttar Pr...  1050.0   \n",
       "4   6200000.0  Jaypee Pavilion Court Sector 128, Noida, Secto...  1350.0   \n",
       "\n",
       "    latitude  longitude  Bedrooms  Bathrooms  Balcony              Status  \\\n",
       "0  28.608850  77.460560       3.0        3.0      NaN  Under Construction   \n",
       "1  28.374236  76.952416       3.0        3.0      NaN       Ready to Move   \n",
       "2  28.645769  77.385110       4.0        5.0      NaN       Ready to Move   \n",
       "3  28.566914  77.436434       2.0        2.0      3.0                 NaN   \n",
       "4  28.520732  77.356491       2.0        2.0      3.0       Ready to Move   \n",
       "\n",
       "       neworold  parking Furnished_status  Lift                   Landmarks  \\\n",
       "0  New Property      NaN              NaN   2.0                         NaN   \n",
       "1  New Property      NaN   Semi-Furnished   2.0                         NaN   \n",
       "2  New Property      1.0      Unfurnished   NaN                         NaN   \n",
       "3  New Property      1.0      Unfurnished   2.0  near Gaur Mulberry Mansion   \n",
       "4        Resale      1.0              NaN   3.0                         NaN   \n",
       "\n",
       "  type_of_building                                               desc  \\\n",
       "0             Flat  \\n\\n\\n                                Welcome ...   \n",
       "1             Flat  \\n\\n\\n                                Mapsko M...   \n",
       "2             Flat  \\n\\n\\n                                This pro...   \n",
       "3             Flat  \\n\\n\\n                                AIG Roya...   \n",
       "4             Flat  \\n\\n\\n                                The prop...   \n",
       "\n",
       "    Price_sqft  \n",
       "0  4148.148148  \n",
       "1  5906.040268  \n",
       "2  6918.238994  \n",
       "3  3628.571429  \n",
       "4  4592.592593  "
      ]
     },
     "execution_count": 85,
     "metadata": {},
     "output_type": "execute_result"
    }
   ],
   "source": [
    "dp1.head()"
   ]
  },
  {
   "cell_type": "code",
   "execution_count": 86,
   "id": "45d32911",
   "metadata": {},
   "outputs": [
    {
     "name": "stdout",
     "output_type": "stream",
     "text": [
      "<class 'pandas.core.frame.DataFrame'>\n",
      "RangeIndex: 7738 entries, 0 to 7737\n",
      "Data columns (total 17 columns):\n",
      " #   Column            Non-Null Count  Dtype  \n",
      "---  ------            --------------  -----  \n",
      " 0   price             7738 non-null   float64\n",
      " 1   Address           7738 non-null   object \n",
      " 2   area              7738 non-null   float64\n",
      " 3   latitude          7738 non-null   float64\n",
      " 4   longitude         7738 non-null   float64\n",
      " 5   Bedrooms          7738 non-null   float64\n",
      " 6   Bathrooms         7738 non-null   float64\n",
      " 7   Balcony           5166 non-null   float64\n",
      " 8   Status            7164 non-null   object \n",
      " 9   neworold          7738 non-null   object \n",
      " 10  parking           2612 non-null   float64\n",
      " 11  Furnished_status  4124 non-null   object \n",
      " 12  Lift              1733 non-null   float64\n",
      " 13  Landmarks         2759 non-null   object \n",
      " 14  type_of_building  7738 non-null   object \n",
      " 15  desc              7738 non-null   object \n",
      " 16  Price_sqft        7738 non-null   float64\n",
      "dtypes: float64(10), object(7)\n",
      "memory usage: 1.0+ MB\n"
     ]
    }
   ],
   "source": [
    "dp1.info()"
   ]
  },
  {
   "cell_type": "code",
   "execution_count": 87,
   "id": "02322f18",
   "metadata": {},
   "outputs": [
    {
     "data": {
      "text/html": [
       "<div>\n",
       "<style scoped>\n",
       "    .dataframe tbody tr th:only-of-type {\n",
       "        vertical-align: middle;\n",
       "    }\n",
       "\n",
       "    .dataframe tbody tr th {\n",
       "        vertical-align: top;\n",
       "    }\n",
       "\n",
       "    .dataframe thead th {\n",
       "        text-align: right;\n",
       "    }\n",
       "</style>\n",
       "<table border=\"1\" class=\"dataframe\">\n",
       "  <thead>\n",
       "    <tr style=\"text-align: right;\">\n",
       "      <th></th>\n",
       "      <th>price</th>\n",
       "      <th>area</th>\n",
       "      <th>latitude</th>\n",
       "      <th>longitude</th>\n",
       "      <th>Bedrooms</th>\n",
       "      <th>Bathrooms</th>\n",
       "      <th>Balcony</th>\n",
       "      <th>parking</th>\n",
       "      <th>Lift</th>\n",
       "      <th>Price_sqft</th>\n",
       "    </tr>\n",
       "  </thead>\n",
       "  <tbody>\n",
       "    <tr>\n",
       "      <th>count</th>\n",
       "      <td>7.738000e+03</td>\n",
       "      <td>7738.000000</td>\n",
       "      <td>7738.000000</td>\n",
       "      <td>7738.000000</td>\n",
       "      <td>7738.000000</td>\n",
       "      <td>7738.000000</td>\n",
       "      <td>5166.000000</td>\n",
       "      <td>2612.000000</td>\n",
       "      <td>1733.000000</td>\n",
       "      <td>7738.000000</td>\n",
       "    </tr>\n",
       "    <tr>\n",
       "      <th>mean</th>\n",
       "      <td>8.320635e+06</td>\n",
       "      <td>1409.506591</td>\n",
       "      <td>28.552092</td>\n",
       "      <td>77.273476</td>\n",
       "      <td>2.708193</td>\n",
       "      <td>2.501163</td>\n",
       "      <td>2.426442</td>\n",
       "      <td>7.673047</td>\n",
       "      <td>1.829198</td>\n",
       "      <td>5543.660241</td>\n",
       "    </tr>\n",
       "    <tr>\n",
       "      <th>std</th>\n",
       "      <td>7.223197e+06</td>\n",
       "      <td>718.929581</td>\n",
       "      <td>0.107420</td>\n",
       "      <td>0.180606</td>\n",
       "      <td>0.877026</td>\n",
       "      <td>0.867050</td>\n",
       "      <td>1.083677</td>\n",
       "      <td>60.417508</td>\n",
       "      <td>1.192607</td>\n",
       "      <td>2408.659307</td>\n",
       "    </tr>\n",
       "    <tr>\n",
       "      <th>min</th>\n",
       "      <td>1.700000e+06</td>\n",
       "      <td>501.000000</td>\n",
       "      <td>28.240023</td>\n",
       "      <td>76.884101</td>\n",
       "      <td>2.000000</td>\n",
       "      <td>2.000000</td>\n",
       "      <td>1.000000</td>\n",
       "      <td>1.000000</td>\n",
       "      <td>0.000000</td>\n",
       "      <td>2100.000000</td>\n",
       "    </tr>\n",
       "    <tr>\n",
       "      <th>25%</th>\n",
       "      <td>4.200000e+06</td>\n",
       "      <td>990.000000</td>\n",
       "      <td>28.455539</td>\n",
       "      <td>77.078590</td>\n",
       "      <td>2.000000</td>\n",
       "      <td>2.000000</td>\n",
       "      <td>2.000000</td>\n",
       "      <td>1.000000</td>\n",
       "      <td>1.000000</td>\n",
       "      <td>3950.986915</td>\n",
       "    </tr>\n",
       "    <tr>\n",
       "      <th>50%</th>\n",
       "      <td>6.000000e+06</td>\n",
       "      <td>1250.000000</td>\n",
       "      <td>28.574637</td>\n",
       "      <td>77.345320</td>\n",
       "      <td>3.000000</td>\n",
       "      <td>2.000000</td>\n",
       "      <td>2.000000</td>\n",
       "      <td>1.000000</td>\n",
       "      <td>2.000000</td>\n",
       "      <td>4972.674332</td>\n",
       "    </tr>\n",
       "    <tr>\n",
       "      <th>75%</th>\n",
       "      <td>9.500000e+06</td>\n",
       "      <td>1650.000000</td>\n",
       "      <td>28.642520</td>\n",
       "      <td>77.421054</td>\n",
       "      <td>3.000000</td>\n",
       "      <td>3.000000</td>\n",
       "      <td>3.000000</td>\n",
       "      <td>2.000000</td>\n",
       "      <td>2.000000</td>\n",
       "      <td>6350.638693</td>\n",
       "    </tr>\n",
       "    <tr>\n",
       "      <th>max</th>\n",
       "      <td>8.500000e+07</td>\n",
       "      <td>9500.000000</td>\n",
       "      <td>28.799748</td>\n",
       "      <td>77.688028</td>\n",
       "      <td>10.000000</td>\n",
       "      <td>10.000000</td>\n",
       "      <td>10.000000</td>\n",
       "      <td>1406.000000</td>\n",
       "      <td>10.000000</td>\n",
       "      <td>44378.698225</td>\n",
       "    </tr>\n",
       "  </tbody>\n",
       "</table>\n",
       "</div>"
      ],
      "text/plain": [
       "              price         area     latitude    longitude     Bedrooms  \\\n",
       "count  7.738000e+03  7738.000000  7738.000000  7738.000000  7738.000000   \n",
       "mean   8.320635e+06  1409.506591    28.552092    77.273476     2.708193   \n",
       "std    7.223197e+06   718.929581     0.107420     0.180606     0.877026   \n",
       "min    1.700000e+06   501.000000    28.240023    76.884101     2.000000   \n",
       "25%    4.200000e+06   990.000000    28.455539    77.078590     2.000000   \n",
       "50%    6.000000e+06  1250.000000    28.574637    77.345320     3.000000   \n",
       "75%    9.500000e+06  1650.000000    28.642520    77.421054     3.000000   \n",
       "max    8.500000e+07  9500.000000    28.799748    77.688028    10.000000   \n",
       "\n",
       "         Bathrooms      Balcony      parking         Lift    Price_sqft  \n",
       "count  7738.000000  5166.000000  2612.000000  1733.000000   7738.000000  \n",
       "mean      2.501163     2.426442     7.673047     1.829198   5543.660241  \n",
       "std       0.867050     1.083677    60.417508     1.192607   2408.659307  \n",
       "min       2.000000     1.000000     1.000000     0.000000   2100.000000  \n",
       "25%       2.000000     2.000000     1.000000     1.000000   3950.986915  \n",
       "50%       2.000000     2.000000     1.000000     2.000000   4972.674332  \n",
       "75%       3.000000     3.000000     2.000000     2.000000   6350.638693  \n",
       "max      10.000000    10.000000  1406.000000    10.000000  44378.698225  "
      ]
     },
     "execution_count": 87,
     "metadata": {},
     "output_type": "execute_result"
    }
   ],
   "source": [
    "dp1.describe()"
   ]
  },
  {
   "cell_type": "code",
   "execution_count": 88,
   "id": "f49f40c3",
   "metadata": {},
   "outputs": [
    {
     "data": {
      "text/plain": [
       "(7738, 17)"
      ]
     },
     "execution_count": 88,
     "metadata": {},
     "output_type": "execute_result"
    }
   ],
   "source": [
    "dp1.shape"
   ]
  },
  {
   "cell_type": "code",
   "execution_count": 91,
   "id": "ee3ccea2",
   "metadata": {},
   "outputs": [
    {
     "data": {
      "text/plain": [
       "<seaborn.axisgrid.JointGrid at 0x1d1c8be3820>"
      ]
     },
     "execution_count": 91,
     "metadata": {},
     "output_type": "execute_result"
    },
    {
     "data": {
      "image/png": "[encoded data removed]",
      "text/plain": [
       "<Figure size 432x432 with 3 Axes>"
      ]
     },
     "metadata": {
      "needs_background": "light"
     },
     "output_type": "display_data"
    }
   ],
   "source": [
    "sns.jointplot(data=dp1,x=dp1[\"area\"],y=dp1[\"price\"],kind='reg')"
   ]
  },
  {
   "cell_type": "code",
   "execution_count": 90,
   "id": "47d925b1",
   "metadata": {},
   "outputs": [
    {
     "data": {
      "text/plain": [
       "<AxesSubplot:>"
      ]
     },
     "execution_count": 90,
     "metadata": {},
     "output_type": "execute_result"
    },
    {
     "data": {
      "image/png": "[encoded data removed]",
      "text/plain": [
       "<Figure size 432x288 with 1 Axes>"
      ]
     },
     "metadata": {
      "needs_background": "light"
     },
     "output_type": "display_data"
    }
   ],
   "source": [
    "sns.heatmap(dp1.isnull(),yticklabels=False,cbar=False,cmap='viridis')"
   ]
  },
  {
   "cell_type": "code",
   "execution_count": 92,
   "id": "af189844",
   "metadata": {},
   "outputs": [
    {
     "data": {
      "text/plain": [
       "2612"
      ]
     },
     "execution_count": 92,
     "metadata": {},
     "output_type": "execute_result"
    }
   ],
   "source": [
    "dp1[\"parking\"].count()"
   ]
  },
  {
   "cell_type": "code",
   "execution_count": 94,
   "id": "e0a3c618",
   "metadata": {},
   "outputs": [
    {
     "data": {
      "text/plain": [
       "Address\n",
       "Raj Nagar Extension, Ghaziabad, Delhi NCR                            163\n",
       "Indirapuram, Ghaziabad, Delhi NCR                                    152\n",
       "Greater Noida West, Greater Noida, Delhi NCR                         100\n",
       "Noida Extension, Noida, Delhi NCR                                     63\n",
       "Crossings Republik, Ghaziabad, Delhi NCR                              61\n",
       "                                                                    ... \n",
       "Godrej woods sector 43, Sector 43, Noida, Delhi NCR                    1\n",
       "Golf Course Road, Gurgaon, Delhi NCR                                   1\n",
       "Golf Course Road, Gurgaon, South City 1, Gurgaon, Delhi NCR            1\n",
       "Golf course Ex-road sec 68 gurgaon, Sector 68, Gurgaon, Delhi NCR      1\n",
       "zeta 1, Zeta 1, Greater Noida, Delhi NCR                               1\n",
       "Length: 4145, dtype: int64"
      ]
     },
     "execution_count": 94,
     "metadata": {},
     "output_type": "execute_result"
    }
   ],
   "source": [
    "dp1.value_counts(\"Address\")"
   ]
  },
  {
   "cell_type": "code",
   "execution_count": 95,
   "id": "f18c2f7c",
   "metadata": {},
   "outputs": [],
   "source": [
    "#sns.pairplot(dp1)"
   ]
  },
  {
   "cell_type": "code",
   "execution_count": 96,
   "id": "34aa85b2",
   "metadata": {},
   "outputs": [
    {
     "data": {
      "text/plain": [
       "<AxesSubplot:>"
      ]
     },
     "execution_count": 96,
     "metadata": {},
     "output_type": "execute_result"
    },
    {
     "data": {
      "image/png": "[encoded data removed]",
      "text/plain": [
       "<Figure size 432x288 with 2 Axes>"
      ]
     },
     "metadata": {
      "needs_background": "light"
     },
     "output_type": "display_data"
    }
   ],
   "source": [
    "sns.heatmap(dp1.corr())"
   ]
  },
  {
   "cell_type": "code",
   "execution_count": 98,
   "id": "7a5c3296",
   "metadata": {},
   "outputs": [
    {
     "name": "stderr",
     "output_type": "stream",
     "text": [
      "C:\\Users\\atuls\\anaconda3\\lib\\site-packages\\seaborn\\distributions.py:2619: FutureWarning: `distplot` is a deprecated function and will be removed in a future version. Please adapt your code to use either `displot` (a figure-level function with similar flexibility) or `histplot` (an axes-level function for histograms).\n",
      "  warnings.warn(msg, FutureWarning)\n"
     ]
    },
    {
     "data": {
      "text/plain": [
       "<AxesSubplot:xlabel='price', ylabel='Density'>"
      ]
     },
     "execution_count": 98,
     "metadata": {},
     "output_type": "execute_result"
    },
    {
     "data": {
      "image/png": "[encoded data removed]",
      "text/plain": [
       "<Figure size 432x288 with 1 Axes>"
      ]
     },
     "metadata": {
      "needs_background": "light"
     },
     "output_type": "display_data"
    }
   ],
   "source": [
    "sns.distplot(dp1['price'])"
   ]
  },
  {
   "cell_type": "code",
   "execution_count": 100,
   "id": "313b8926",
   "metadata": {},
   "outputs": [
    {
     "data": {
      "text/html": [
       "<div>\n",
       "<style scoped>\n",
       "    .dataframe tbody tr th:only-of-type {\n",
       "        vertical-align: middle;\n",
       "    }\n",
       "\n",
       "    .dataframe tbody tr th {\n",
       "        vertical-align: top;\n",
       "    }\n",
       "\n",
       "    .dataframe thead th {\n",
       "        text-align: right;\n",
       "    }\n",
       "</style>\n",
       "<table border=\"1\" class=\"dataframe\">\n",
       "  <thead>\n",
       "    <tr style=\"text-align: right;\">\n",
       "      <th></th>\n",
       "      <th>price</th>\n",
       "      <th>Address</th>\n",
       "      <th>area</th>\n",
       "      <th>latitude</th>\n",
       "      <th>longitude</th>\n",
       "      <th>Bedrooms</th>\n",
       "      <th>Bathrooms</th>\n",
       "      <th>Balcony</th>\n",
       "      <th>Status</th>\n",
       "      <th>neworold</th>\n",
       "      <th>parking</th>\n",
       "      <th>Furnished_status</th>\n",
       "      <th>Lift</th>\n",
       "      <th>Landmarks</th>\n",
       "      <th>type_of_building</th>\n",
       "      <th>desc</th>\n",
       "      <th>Price_sqft</th>\n",
       "    </tr>\n",
       "  </thead>\n",
       "  <tbody>\n",
       "    <tr>\n",
       "      <th>0</th>\n",
       "      <td>5600000.0</td>\n",
       "      <td>Noida Extension, Noida, Delhi NCR</td>\n",
       "      <td>1350.0</td>\n",
       "      <td>28.60885</td>\n",
       "      <td>77.46056</td>\n",
       "      <td>3.0</td>\n",
       "      <td>3.0</td>\n",
       "      <td>NaN</td>\n",
       "      <td>Under Construction</td>\n",
       "      <td>New Property</td>\n",
       "      <td>NaN</td>\n",
       "      <td>NaN</td>\n",
       "      <td>2.0</td>\n",
       "      <td>NaN</td>\n",
       "      <td>Flat</td>\n",
       "      <td>\\n\\n\\n                                Welcome ...</td>\n",
       "      <td>4148.148148</td>\n",
       "    </tr>\n",
       "  </tbody>\n",
       "</table>\n",
       "</div>"
      ],
      "text/plain": [
       "       price                            Address    area  latitude  longitude  \\\n",
       "0  5600000.0  Noida Extension, Noida, Delhi NCR  1350.0  28.60885   77.46056   \n",
       "\n",
       "   Bedrooms  Bathrooms  Balcony              Status      neworold  parking  \\\n",
       "0       3.0        3.0      NaN  Under Construction  New Property      NaN   \n",
       "\n",
       "  Furnished_status  Lift Landmarks type_of_building  \\\n",
       "0              NaN   2.0       NaN             Flat   \n",
       "\n",
       "                                                desc   Price_sqft  \n",
       "0  \\n\\n\\n                                Welcome ...  4148.148148  "
      ]
     },
     "execution_count": 100,
     "metadata": {},
     "output_type": "execute_result"
    }
   ],
   "source": [
    "dp1.head(1)"
   ]
  },
  {
   "cell_type": "code",
   "execution_count": 189,
   "id": "d4122171",
   "metadata": {},
   "outputs": [
    {
     "data": {
      "text/plain": [
       "neworold\n",
       "0    6905\n",
       "1     833\n",
       "Name: neworold, dtype: int64"
      ]
     },
     "execution_count": 189,
     "metadata": {},
     "output_type": "execute_result"
    }
   ],
   "source": [
    "dp1.groupby(\"neworold\")[\"neworold\"].agg(\"count\")"
   ]
  },
  {
   "cell_type": "code",
   "execution_count": 190,
   "id": "6486f9a0",
   "metadata": {},
   "outputs": [
    {
     "data": {
      "text/plain": [
       "Bedrooms\n",
       "2.0     3525\n",
       "3.0     3373\n",
       "4.0      642\n",
       "5.0       98\n",
       "6.0       46\n",
       "7.0       17\n",
       "8.0       10\n",
       "9.0       16\n",
       "10.0      11\n",
       "Name: Bedrooms, dtype: int64"
      ]
     },
     "execution_count": 190,
     "metadata": {},
     "output_type": "execute_result"
    }
   ],
   "source": [
    "dp1.groupby(\"Bedrooms\")[\"Bedrooms\"].agg(\"count\")"
   ]
  },
  {
   "cell_type": "code",
   "execution_count": 153,
   "id": "750409c9",
   "metadata": {},
   "outputs": [
    {
     "data": {
      "text/plain": [
       "type_of_building\n",
       "Flat                6226\n",
       "Individual House    1512\n",
       "Name: type_of_building, dtype: int64"
      ]
     },
     "execution_count": 153,
     "metadata": {},
     "output_type": "execute_result"
    }
   ],
   "source": [
    "dp1.groupby(\"type_of_building\")[\"type_of_building\"].agg(\"count\")"
   ]
  },
  {
   "cell_type": "code",
   "execution_count": 111,
   "id": "28777ce0",
   "metadata": {},
   "outputs": [
    {
     "data": {
      "text/plain": [
       "Furnished_status\n",
       "Furnished          695\n",
       "Semi-Furnished    2199\n",
       "Unfurnished       1230\n",
       "Name: Furnished_status, dtype: int64"
      ]
     },
     "execution_count": 111,
     "metadata": {},
     "output_type": "execute_result"
    }
   ],
   "source": [
    "dp1.groupby(\"Furnished_status\")[\"Furnished_status\"].agg(\"count\")"
   ]
  },
  {
   "cell_type": "code",
   "execution_count": 128,
   "id": "21388706",
   "metadata": {},
   "outputs": [
    {
     "data": {
      "text/plain": [
       "parking\n",
       "1.0       1715\n",
       "2.0        640\n",
       "3.0        110\n",
       "4.0         45\n",
       "5.0         12\n",
       "          ... \n",
       "787.0        1\n",
       "804.0        1\n",
       "835.0        1\n",
       "1050.0       1\n",
       "1406.0       1\n",
       "Name: parking, Length: 65, dtype: int64"
      ]
     },
     "execution_count": 128,
     "metadata": {},
     "output_type": "execute_result"
    }
   ],
   "source": [
    "dp1.groupby(\"parking\")[\"parking\"].agg(\"count\")"
   ]
  },
  {
   "cell_type": "code",
   "execution_count": 125,
   "id": "ef75d08c",
   "metadata": {},
   "outputs": [
    {
     "data": {
      "text/plain": [
       "array([ 3.,  4.,  2.,  5.,  6., 10.,  7.,  8.,  9.])"
      ]
     },
     "execution_count": 125,
     "metadata": {},
     "output_type": "execute_result"
    }
   ],
   "source": [
    "dp1[\"Bedrooms\"].unique()"
   ]
  },
  {
   "cell_type": "code",
   "execution_count": 126,
   "id": "3b68f616",
   "metadata": {},
   "outputs": [
    {
     "data": {
      "text/plain": [
       "array([      nan, 1.000e+00, 2.000e+00, 4.000e+00, 3.000e+00, 1.230e+02,\n",
       "       1.000e+01, 7.000e+00, 7.020e+02, 6.000e+00, 1.100e+01, 5.000e+00,\n",
       "       2.030e+02, 1.240e+02, 7.870e+02, 9.200e+01, 5.020e+02, 8.040e+02,\n",
       "       8.000e+00, 3.200e+01, 3.300e+01, 5.500e+01, 1.610e+02, 5.120e+02,\n",
       "       4.500e+02, 9.000e+00, 1.000e+02, 8.350e+02, 4.300e+01, 5.320e+02,\n",
       "       1.940e+02, 2.580e+02, 1.800e+01, 2.500e+01, 6.020e+02, 1.600e+01,\n",
       "       6.240e+02, 8.700e+01, 9.100e+01, 1.200e+01, 1.010e+02, 2.650e+02,\n",
       "       1.630e+02, 4.450e+02, 1.406e+03, 4.020e+02, 7.500e+02, 1.050e+03,\n",
       "       5.400e+01, 1.300e+02, 7.030e+02, 3.740e+02, 6.600e+01, 2.300e+01,\n",
       "       2.200e+02, 1.600e+02, 2.300e+02, 3.400e+01, 1.190e+02, 3.380e+02,\n",
       "       1.030e+02, 2.000e+01, 1.450e+02, 9.900e+01, 3.030e+02, 1.790e+02])"
      ]
     },
     "execution_count": 126,
     "metadata": {},
     "output_type": "execute_result"
    }
   ],
   "source": [
    "dp1[\"parking\"].unique()"
   ]
  },
  {
   "cell_type": "code",
   "execution_count": 110,
   "id": "4de38dd3",
   "metadata": {},
   "outputs": [
    {
     "data": {
      "text/plain": [
       "1102"
      ]
     },
     "execution_count": 110,
     "metadata": {},
     "output_type": "execute_result"
    }
   ],
   "source": [
    "dp1[\"area\"].unique()"
   ]
  },
  {
   "cell_type": "code",
   "execution_count": 112,
   "id": "cbc60d83",
   "metadata": {},
   "outputs": [
    {
     "data": {
      "text/plain": [
       "price                  0\n",
       "Address                0\n",
       "area                   0\n",
       "latitude               0\n",
       "longitude              0\n",
       "Bedrooms               0\n",
       "Bathrooms              0\n",
       "Balcony             2572\n",
       "Status               574\n",
       "neworold               0\n",
       "parking             5126\n",
       "Furnished_status    3614\n",
       "Lift                6005\n",
       "Landmarks           4979\n",
       "type_of_building       0\n",
       "desc                   0\n",
       "Price_sqft             0\n",
       "dtype: int64"
      ]
     },
     "execution_count": 112,
     "metadata": {},
     "output_type": "execute_result"
    }
   ],
   "source": [
    "dp1.isnull().sum()"
   ]
  },
  {
   "cell_type": "code",
   "execution_count": 171,
   "id": "e9a6f080",
   "metadata": {},
   "outputs": [],
   "source": [
    "dp2=dp.drop([\"Address\",\"Status\",\"Balcony\",\"Status\",\"Landmarks\",\"desc\"],axis=\"columns\")"
   ]
  },
  {
   "cell_type": "code",
   "execution_count": 172,
   "id": "72c03daa",
   "metadata": {},
   "outputs": [
    {
     "data": {
      "text/html": [
       "<div>\n",
       "<style scoped>\n",
       "    .dataframe tbody tr th:only-of-type {\n",
       "        vertical-align: middle;\n",
       "    }\n",
       "\n",
       "    .dataframe tbody tr th {\n",
       "        vertical-align: top;\n",
       "    }\n",
       "\n",
       "    .dataframe thead th {\n",
       "        text-align: right;\n",
       "    }\n",
       "</style>\n",
       "<table border=\"1\" class=\"dataframe\">\n",
       "  <thead>\n",
       "    <tr style=\"text-align: right;\">\n",
       "      <th></th>\n",
       "      <th>price</th>\n",
       "      <th>area</th>\n",
       "      <th>latitude</th>\n",
       "      <th>longitude</th>\n",
       "      <th>Bedrooms</th>\n",
       "      <th>Bathrooms</th>\n",
       "      <th>neworold</th>\n",
       "      <th>parking</th>\n",
       "      <th>Furnished_status</th>\n",
       "      <th>Lift</th>\n",
       "      <th>type_of_building</th>\n",
       "      <th>Price_sqft</th>\n",
       "    </tr>\n",
       "  </thead>\n",
       "  <tbody>\n",
       "    <tr>\n",
       "      <th>0</th>\n",
       "      <td>5600000.0</td>\n",
       "      <td>1350.0</td>\n",
       "      <td>28.608850</td>\n",
       "      <td>77.460560</td>\n",
       "      <td>3.0</td>\n",
       "      <td>3.0</td>\n",
       "      <td>1</td>\n",
       "      <td>NaN</td>\n",
       "      <td>NaN</td>\n",
       "      <td>2.0</td>\n",
       "      <td>Flat</td>\n",
       "      <td>4148.148148</td>\n",
       "    </tr>\n",
       "    <tr>\n",
       "      <th>1</th>\n",
       "      <td>8800000.0</td>\n",
       "      <td>1490.0</td>\n",
       "      <td>28.374236</td>\n",
       "      <td>76.952416</td>\n",
       "      <td>3.0</td>\n",
       "      <td>3.0</td>\n",
       "      <td>1</td>\n",
       "      <td>NaN</td>\n",
       "      <td>Semi-Furnished</td>\n",
       "      <td>2.0</td>\n",
       "      <td>Flat</td>\n",
       "      <td>5906.040268</td>\n",
       "    </tr>\n",
       "    <tr>\n",
       "      <th>2</th>\n",
       "      <td>16500000.0</td>\n",
       "      <td>2385.0</td>\n",
       "      <td>28.645769</td>\n",
       "      <td>77.385110</td>\n",
       "      <td>4.0</td>\n",
       "      <td>5.0</td>\n",
       "      <td>1</td>\n",
       "      <td>1.0</td>\n",
       "      <td>Unfurnished</td>\n",
       "      <td>NaN</td>\n",
       "      <td>Flat</td>\n",
       "      <td>6918.238994</td>\n",
       "    </tr>\n",
       "    <tr>\n",
       "      <th>3</th>\n",
       "      <td>3810000.0</td>\n",
       "      <td>1050.0</td>\n",
       "      <td>28.566914</td>\n",
       "      <td>77.436434</td>\n",
       "      <td>2.0</td>\n",
       "      <td>2.0</td>\n",
       "      <td>1</td>\n",
       "      <td>1.0</td>\n",
       "      <td>Unfurnished</td>\n",
       "      <td>2.0</td>\n",
       "      <td>Flat</td>\n",
       "      <td>3628.571429</td>\n",
       "    </tr>\n",
       "    <tr>\n",
       "      <th>4</th>\n",
       "      <td>6200000.0</td>\n",
       "      <td>1350.0</td>\n",
       "      <td>28.520732</td>\n",
       "      <td>77.356491</td>\n",
       "      <td>2.0</td>\n",
       "      <td>2.0</td>\n",
       "      <td>0</td>\n",
       "      <td>1.0</td>\n",
       "      <td>NaN</td>\n",
       "      <td>3.0</td>\n",
       "      <td>Flat</td>\n",
       "      <td>4592.592593</td>\n",
       "    </tr>\n",
       "  </tbody>\n",
       "</table>\n",
       "</div>"
      ],
      "text/plain": [
       "        price    area   latitude  longitude  Bedrooms  Bathrooms  neworold  \\\n",
       "0   5600000.0  1350.0  28.608850  77.460560       3.0        3.0         1   \n",
       "1   8800000.0  1490.0  28.374236  76.952416       3.0        3.0         1   \n",
       "2  16500000.0  2385.0  28.645769  77.385110       4.0        5.0         1   \n",
       "3   3810000.0  1050.0  28.566914  77.436434       2.0        2.0         1   \n",
       "4   6200000.0  1350.0  28.520732  77.356491       2.0        2.0         0   \n",
       "\n",
       "   parking Furnished_status  Lift type_of_building   Price_sqft  \n",
       "0      NaN              NaN   2.0             Flat  4148.148148  \n",
       "1      NaN   Semi-Furnished   2.0             Flat  5906.040268  \n",
       "2      1.0      Unfurnished   NaN             Flat  6918.238994  \n",
       "3      1.0      Unfurnished   2.0             Flat  3628.571429  \n",
       "4      1.0              NaN   3.0             Flat  4592.592593  "
      ]
     },
     "execution_count": 172,
     "metadata": {},
     "output_type": "execute_result"
    }
   ],
   "source": [
    "dp2.head()"
   ]
  },
  {
   "cell_type": "code",
   "execution_count": 173,
   "id": "38c51feb",
   "metadata": {},
   "outputs": [
    {
     "data": {
      "text/plain": [
       "price                  0\n",
       "area                   0\n",
       "latitude               0\n",
       "longitude              0\n",
       "Bedrooms               0\n",
       "Bathrooms              0\n",
       "neworold               0\n",
       "parking             5126\n",
       "Furnished_status    3614\n",
       "Lift                6005\n",
       "type_of_building       0\n",
       "Price_sqft             0\n",
       "dtype: int64"
      ]
     },
     "execution_count": 173,
     "metadata": {},
     "output_type": "execute_result"
    }
   ],
   "source": [
    "dp2.isnull().sum()"
   ]
  },
  {
   "cell_type": "code",
   "execution_count": 182,
   "id": "a906d2cb",
   "metadata": {},
   "outputs": [
    {
     "data": {
      "text/html": [
       "<div>\n",
       "<style scoped>\n",
       "    .dataframe tbody tr th:only-of-type {\n",
       "        vertical-align: middle;\n",
       "    }\n",
       "\n",
       "    .dataframe tbody tr th {\n",
       "        vertical-align: top;\n",
       "    }\n",
       "\n",
       "    .dataframe thead th {\n",
       "        text-align: right;\n",
       "    }\n",
       "</style>\n",
       "<table border=\"1\" class=\"dataframe\">\n",
       "  <thead>\n",
       "    <tr style=\"text-align: right;\">\n",
       "      <th></th>\n",
       "      <th>price</th>\n",
       "      <th>area</th>\n",
       "      <th>latitude</th>\n",
       "      <th>longitude</th>\n",
       "      <th>Bedrooms</th>\n",
       "      <th>Bathrooms</th>\n",
       "      <th>neworold</th>\n",
       "      <th>parking</th>\n",
       "      <th>Furnished_status</th>\n",
       "      <th>Lift</th>\n",
       "      <th>type_of_building</th>\n",
       "      <th>Price_sqft</th>\n",
       "    </tr>\n",
       "  </thead>\n",
       "  <tbody>\n",
       "    <tr>\n",
       "      <th>0</th>\n",
       "      <td>5600000.0</td>\n",
       "      <td>1350.0</td>\n",
       "      <td>28.60885</td>\n",
       "      <td>77.46056</td>\n",
       "      <td>3.0</td>\n",
       "      <td>3.0</td>\n",
       "      <td>1</td>\n",
       "      <td>NaN</td>\n",
       "      <td>NaN</td>\n",
       "      <td>2.0</td>\n",
       "      <td>0</td>\n",
       "      <td>4148.148148</td>\n",
       "    </tr>\n",
       "  </tbody>\n",
       "</table>\n",
       "</div>"
      ],
      "text/plain": [
       "       price    area  latitude  longitude  Bedrooms  Bathrooms  neworold  \\\n",
       "0  5600000.0  1350.0  28.60885   77.46056       3.0        3.0         1   \n",
       "\n",
       "   parking  Furnished_status  Lift  type_of_building   Price_sqft  \n",
       "0      NaN               NaN   2.0                 0  4148.148148  "
      ]
     },
     "execution_count": 182,
     "metadata": {},
     "output_type": "execute_result"
    }
   ],
   "source": [
    "dp2.head(1)"
   ]
  },
  {
   "cell_type": "code",
   "execution_count": 188,
   "id": "fdf217f7",
   "metadata": {},
   "outputs": [],
   "source": [
    "dp3=dp1.drop([\"Address\",\"Status\",\"Balcony\",\"Status\",\"Landmarks\",\"desc\"],axis=\"columns\")"
   ]
  },
  {
   "cell_type": "code",
   "execution_count": 186,
   "id": "1808d170",
   "metadata": {},
   "outputs": [
    {
     "data": {
      "text/html": [
       "<div>\n",
       "<style scoped>\n",
       "    .dataframe tbody tr th:only-of-type {\n",
       "        vertical-align: middle;\n",
       "    }\n",
       "\n",
       "    .dataframe tbody tr th {\n",
       "        vertical-align: top;\n",
       "    }\n",
       "\n",
       "    .dataframe thead th {\n",
       "        text-align: right;\n",
       "    }\n",
       "</style>\n",
       "<table border=\"1\" class=\"dataframe\">\n",
       "  <thead>\n",
       "    <tr style=\"text-align: right;\">\n",
       "      <th></th>\n",
       "      <th>price</th>\n",
       "      <th>area</th>\n",
       "      <th>latitude</th>\n",
       "      <th>longitude</th>\n",
       "      <th>Bedrooms</th>\n",
       "      <th>Bathrooms</th>\n",
       "      <th>neworold</th>\n",
       "      <th>parking</th>\n",
       "      <th>Furnished_status</th>\n",
       "      <th>Lift</th>\n",
       "      <th>type_of_building</th>\n",
       "      <th>Price_sqft</th>\n",
       "    </tr>\n",
       "  </thead>\n",
       "  <tbody>\n",
       "    <tr>\n",
       "      <th>0</th>\n",
       "      <td>5600000.0</td>\n",
       "      <td>1350.0</td>\n",
       "      <td>28.608850</td>\n",
       "      <td>77.460560</td>\n",
       "      <td>3.0</td>\n",
       "      <td>3.0</td>\n",
       "      <td>1</td>\n",
       "      <td>NaN</td>\n",
       "      <td>NaN</td>\n",
       "      <td>2.0</td>\n",
       "      <td>Flat</td>\n",
       "      <td>4148.148148</td>\n",
       "    </tr>\n",
       "    <tr>\n",
       "      <th>1</th>\n",
       "      <td>8800000.0</td>\n",
       "      <td>1490.0</td>\n",
       "      <td>28.374236</td>\n",
       "      <td>76.952416</td>\n",
       "      <td>3.0</td>\n",
       "      <td>3.0</td>\n",
       "      <td>1</td>\n",
       "      <td>NaN</td>\n",
       "      <td>Semi-Furnished</td>\n",
       "      <td>2.0</td>\n",
       "      <td>Flat</td>\n",
       "      <td>5906.040268</td>\n",
       "    </tr>\n",
       "    <tr>\n",
       "      <th>2</th>\n",
       "      <td>16500000.0</td>\n",
       "      <td>2385.0</td>\n",
       "      <td>28.645769</td>\n",
       "      <td>77.385110</td>\n",
       "      <td>4.0</td>\n",
       "      <td>5.0</td>\n",
       "      <td>1</td>\n",
       "      <td>1.0</td>\n",
       "      <td>Unfurnished</td>\n",
       "      <td>NaN</td>\n",
       "      <td>Flat</td>\n",
       "      <td>6918.238994</td>\n",
       "    </tr>\n",
       "    <tr>\n",
       "      <th>3</th>\n",
       "      <td>3810000.0</td>\n",
       "      <td>1050.0</td>\n",
       "      <td>28.566914</td>\n",
       "      <td>77.436434</td>\n",
       "      <td>2.0</td>\n",
       "      <td>2.0</td>\n",
       "      <td>1</td>\n",
       "      <td>1.0</td>\n",
       "      <td>Unfurnished</td>\n",
       "      <td>2.0</td>\n",
       "      <td>Flat</td>\n",
       "      <td>3628.571429</td>\n",
       "    </tr>\n",
       "    <tr>\n",
       "      <th>4</th>\n",
       "      <td>6200000.0</td>\n",
       "      <td>1350.0</td>\n",
       "      <td>28.520732</td>\n",
       "      <td>77.356491</td>\n",
       "      <td>2.0</td>\n",
       "      <td>2.0</td>\n",
       "      <td>0</td>\n",
       "      <td>1.0</td>\n",
       "      <td>NaN</td>\n",
       "      <td>3.0</td>\n",
       "      <td>Flat</td>\n",
       "      <td>4592.592593</td>\n",
       "    </tr>\n",
       "  </tbody>\n",
       "</table>\n",
       "</div>"
      ],
      "text/plain": [
       "        price    area   latitude  longitude  Bedrooms  Bathrooms  neworold  \\\n",
       "0   5600000.0  1350.0  28.608850  77.460560       3.0        3.0         1   \n",
       "1   8800000.0  1490.0  28.374236  76.952416       3.0        3.0         1   \n",
       "2  16500000.0  2385.0  28.645769  77.385110       4.0        5.0         1   \n",
       "3   3810000.0  1050.0  28.566914  77.436434       2.0        2.0         1   \n",
       "4   6200000.0  1350.0  28.520732  77.356491       2.0        2.0         0   \n",
       "\n",
       "   parking Furnished_status  Lift type_of_building   Price_sqft  \n",
       "0      NaN              NaN   2.0             Flat  4148.148148  \n",
       "1      NaN   Semi-Furnished   2.0             Flat  5906.040268  \n",
       "2      1.0      Unfurnished   NaN             Flat  6918.238994  \n",
       "3      1.0      Unfurnished   2.0             Flat  3628.571429  \n",
       "4      1.0              NaN   3.0             Flat  4592.592593  "
      ]
     },
     "execution_count": 186,
     "metadata": {},
     "output_type": "execute_result"
    }
   ],
   "source": [
    "dp3.head()"
   ]
  },
  {
   "cell_type": "code",
   "execution_count": 202,
   "id": "3bf48275",
   "metadata": {},
   "outputs": [],
   "source": [
    "def cleaning(info):\n",
    "    info.neworold.replace([\"Resale\",\"New Property\"],[0,1],inplace=True)\n",
    "    info.type_of_building.replace([\"Flat\",\"Individual House\"],[0,1],inplace=True)\n",
    "    x=[]\n",
    "    for i in info.parking:\n",
    "        if i>0:\n",
    "            x.append(1)\n",
    "        else:\n",
    "            x.append(0)\n",
    "    info.parking=x\n",
    "    x=[]\n",
    "    for i in info.Furnished_status:\n",
    "        if(i==\"Semi-Furnished\"):\n",
    "            x.append(1)\n",
    "        elif(i==\"Furnished\"):\n",
    "            x.append(2)\n",
    "        else:\n",
    "            x.append(0)\n",
    "    info.Furnished_status=x\n",
    "    x=[]\n",
    "    for i in info.Lift:\n",
    "        if i>0:\n",
    "            x.append(1)\n",
    "        else:\n",
    "            x.append(0)\n",
    "    info.Lift=x\n",
    "    info.price=info.price/100000\n",
    "    return info\n",
    "dp4=cleaning(dp3)"
   ]
  },
  {
   "cell_type": "code",
   "execution_count": 203,
   "id": "57add50e",
   "metadata": {},
   "outputs": [
    {
     "data": {
      "text/html": [
       "<div>\n",
       "<style scoped>\n",
       "    .dataframe tbody tr th:only-of-type {\n",
       "        vertical-align: middle;\n",
       "    }\n",
       "\n",
       "    .dataframe tbody tr th {\n",
       "        vertical-align: top;\n",
       "    }\n",
       "\n",
       "    .dataframe thead th {\n",
       "        text-align: right;\n",
       "    }\n",
       "</style>\n",
       "<table border=\"1\" class=\"dataframe\">\n",
       "  <thead>\n",
       "    <tr style=\"text-align: right;\">\n",
       "      <th></th>\n",
       "      <th>price</th>\n",
       "      <th>area</th>\n",
       "      <th>latitude</th>\n",
       "      <th>longitude</th>\n",
       "      <th>Bedrooms</th>\n",
       "      <th>Bathrooms</th>\n",
       "      <th>neworold</th>\n",
       "      <th>parking</th>\n",
       "      <th>Furnished_status</th>\n",
       "      <th>Lift</th>\n",
       "      <th>type_of_building</th>\n",
       "      <th>Price_sqft</th>\n",
       "    </tr>\n",
       "  </thead>\n",
       "  <tbody>\n",
       "    <tr>\n",
       "      <th>0</th>\n",
       "      <td>56.0</td>\n",
       "      <td>1350.0</td>\n",
       "      <td>28.608850</td>\n",
       "      <td>77.460560</td>\n",
       "      <td>3.0</td>\n",
       "      <td>3.0</td>\n",
       "      <td>1</td>\n",
       "      <td>0</td>\n",
       "      <td>0</td>\n",
       "      <td>1</td>\n",
       "      <td>0</td>\n",
       "      <td>4148.148148</td>\n",
       "    </tr>\n",
       "    <tr>\n",
       "      <th>1</th>\n",
       "      <td>88.0</td>\n",
       "      <td>1490.0</td>\n",
       "      <td>28.374236</td>\n",
       "      <td>76.952416</td>\n",
       "      <td>3.0</td>\n",
       "      <td>3.0</td>\n",
       "      <td>1</td>\n",
       "      <td>0</td>\n",
       "      <td>1</td>\n",
       "      <td>1</td>\n",
       "      <td>0</td>\n",
       "      <td>5906.040268</td>\n",
       "    </tr>\n",
       "    <tr>\n",
       "      <th>2</th>\n",
       "      <td>165.0</td>\n",
       "      <td>2385.0</td>\n",
       "      <td>28.645769</td>\n",
       "      <td>77.385110</td>\n",
       "      <td>4.0</td>\n",
       "      <td>5.0</td>\n",
       "      <td>1</td>\n",
       "      <td>1</td>\n",
       "      <td>0</td>\n",
       "      <td>0</td>\n",
       "      <td>0</td>\n",
       "      <td>6918.238994</td>\n",
       "    </tr>\n",
       "    <tr>\n",
       "      <th>3</th>\n",
       "      <td>38.1</td>\n",
       "      <td>1050.0</td>\n",
       "      <td>28.566914</td>\n",
       "      <td>77.436434</td>\n",
       "      <td>2.0</td>\n",
       "      <td>2.0</td>\n",
       "      <td>1</td>\n",
       "      <td>1</td>\n",
       "      <td>0</td>\n",
       "      <td>1</td>\n",
       "      <td>0</td>\n",
       "      <td>3628.571429</td>\n",
       "    </tr>\n",
       "    <tr>\n",
       "      <th>4</th>\n",
       "      <td>62.0</td>\n",
       "      <td>1350.0</td>\n",
       "      <td>28.520732</td>\n",
       "      <td>77.356491</td>\n",
       "      <td>2.0</td>\n",
       "      <td>2.0</td>\n",
       "      <td>0</td>\n",
       "      <td>1</td>\n",
       "      <td>0</td>\n",
       "      <td>1</td>\n",
       "      <td>0</td>\n",
       "      <td>4592.592593</td>\n",
       "    </tr>\n",
       "  </tbody>\n",
       "</table>\n",
       "</div>"
      ],
      "text/plain": [
       "   price    area   latitude  longitude  Bedrooms  Bathrooms  neworold  \\\n",
       "0   56.0  1350.0  28.608850  77.460560       3.0        3.0         1   \n",
       "1   88.0  1490.0  28.374236  76.952416       3.0        3.0         1   \n",
       "2  165.0  2385.0  28.645769  77.385110       4.0        5.0         1   \n",
       "3   38.1  1050.0  28.566914  77.436434       2.0        2.0         1   \n",
       "4   62.0  1350.0  28.520732  77.356491       2.0        2.0         0   \n",
       "\n",
       "   parking  Furnished_status  Lift  type_of_building   Price_sqft  \n",
       "0        0                 0     1                 0  4148.148148  \n",
       "1        0                 1     1                 0  5906.040268  \n",
       "2        1                 0     0                 0  6918.238994  \n",
       "3        1                 0     1                 0  3628.571429  \n",
       "4        1                 0     1                 0  4592.592593  "
      ]
     },
     "execution_count": 203,
     "metadata": {},
     "output_type": "execute_result"
    }
   ],
   "source": [
    "dp4.head()"
   ]
  },
  {
   "cell_type": "code",
   "execution_count": 208,
   "id": "b38bf9a1",
   "metadata": {},
   "outputs": [
    {
     "data": {
      "text/plain": [
       "type_of_building\n",
       "0    6226\n",
       "1    1512\n",
       "dtype: int64"
      ]
     },
     "execution_count": 208,
     "metadata": {},
     "output_type": "execute_result"
    }
   ],
   "source": [
    "dp4.value_counts(\"type_of_building\")"
   ]
  },
  {
   "cell_type": "code",
   "execution_count": null,
   "id": "daed86e2",
   "metadata": {},
   "outputs": [],
   "source": []
  }
 ],
 "metadata": {
  "kernelspec": {
   "display_name": "Python 3 (ipykernel)",
   "language": "python",
   "name": "python3"
  },
  "language_info": {
   "codemirror_mode": {
    "name": "ipython",
    "version": 3
   },
   "file_extension": ".py",
   "mimetype": "text/x-python",
   "name": "python",
   "nbconvert_exporter": "python",
   "pygments_lexer": "ipython3",
   "version": "3.9.12"
  }
 },
 "nbformat": 4,
 "nbformat_minor": 5
}
